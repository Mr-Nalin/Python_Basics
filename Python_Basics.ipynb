{
  "nbformat": 4,
  "nbformat_minor": 0,
  "metadata": {
    "colab": {
      "provenance": []
    },
    "kernelspec": {
      "name": "python3",
      "display_name": "Python 3"
    },
    "language_info": {
      "name": "python"
    }
  },
  "cells": [
    {
      "cell_type": "code",
      "execution_count": null,
      "metadata": {
        "id": "Cf3flJlqddFB"
      },
      "outputs": [],
      "source": []
    },
    {
      "cell_type": "markdown",
      "source": [
        "#Python Basics Questions\n"
      ],
      "metadata": {
        "id": "mzsMR31_eHxH"
      }
    },
    {
      "cell_type": "markdown",
      "source": [
        "1. What is Python, and why is it popular?\n",
        "   - Python is a popular programming language because it's easy to learn, efficient, and can be used for many different tasks. It's used in web development, data science, machine learning, and more.\n",
        "\n",
        "2. What is an interpreter in Python?\n",
        "   - A Python interpreter is a program that reads and executes Python code line by line. It translates the code into machine-readable bytecode, which is then executed.\n",
        "\n",
        "3. What are pre-defined keywords in Python?\n",
        "   - In Python, keywords are reserved words that have special meanings and cannot be used as variable names.\n",
        "\n",
        "   - Some examples of Pythons pre-defined keywords are: import, try, while, for, else, etc\n",
        "\n",
        "4. Can keywords be used as variable names?\n",
        "   - No, keywords cannot be used as variable names because they define the structure and syntax rules of a programming language.\n",
        "\n",
        "5. What is mutability in Python?\n",
        "   - In Python, mutability refers to the ability of an object to be changed after it is created. Mutable objects can be modified after creation.\n",
        "\n",
        "6. Why are lists mutable, but tuples are immutable?\n",
        "   -  Lists are considered mutable because they can be changed after creation, while tuples are immutable meaning their contents cannot be modified once they are created; essentially, lists are designed for flexibility and dynamic changes, whereas tuples are meant to store fixed collections of data that shouldn't be altered.\n",
        "\n",
        "7. What is the difference between “==” and “is” operators in Python?\n",
        "   - In Python, == and is operators are both used for comparison but they serve different purposes. The == operator checks for equality of values which means it evaluates whether the values of two objects are the same. On the other hand, is operator checks for identity, meaning it determines whether two variables point to the same object in memory.\n",
        "\n",
        "8. What are logical operators in Python?\n",
        "   - Logical operators in Python are used to combine multiple conditions and evaluate them as a single Boolean expression. There are three logical operators:\n",
        "\n",
        "  -  and: Returns True if both conditions are true.\n",
        "  -  or: Returns True if at least one condition is true.\n",
        "  - not: Inverts the truth value of the condition.\n",
        "\n",
        "9. What is type casting in Python?\n",
        "   - Type Casting is the method to convert the Python variable datatype into a certain data type in order to perform the required operation by users.  There can be two types of Type Casting in Python: Python Implicit and Type Conversion.\n",
        "\n",
        "10. What is the difference between implicit and explicit type casting?\n",
        "    - The main difference between implicit and explicit type casting is that implicit type casting happens automatically, while explicit type casting requires the programmer to intervene:\n",
        "\n",
        "    - Implicit type casting:\n",
        "     The compiler or interpreter automatically converts one data type to another to perform an operation. This is often used to convert smaller data types to larger data types, and is usually invisible to the user.\n",
        "\n",
        "    - Explicit type casting:\n",
        "      The programmer writes code to explicitly instruct the compiler or interpreter to make a specific conversion. This is visible in the source code and gives the programmer more control over the data conversion process.\n",
        "\n",
        "11. What is the purpose of conditional statements in Python?\n",
        "    - Conditional statements in Python allow you to control the flow of your program based on certain conditions. They help you make decisions in your code, executing different blocks of code depending on whether a condition is true or false.\n",
        "\n",
        "12.  How does the elif statement work?\n",
        "     - An \"elif\" statement in programming languages like Python stands for \"else if\" and is used to check multiple conditions sequentially; if the first \"if\" condition is not met, it moves on to the next \"elif\" condition to see if that one is true, essentially allowing you to execute different blocks of code based on which condition is met within a series of checks.\n",
        "\n",
        "13. What is the difference between for and while loops?\n",
        "    - The main difference between a for loop and a while loop is the number of times the code is repeated:\n",
        "\n",
        "    - For loop: Repeats a block of code a known number of times.\n",
        "    - While loop: Repeats a block of code an unknown number of times, until a condition is met.\n",
        "\n",
        "14. Describe a scenario where a while loop is more suitable than a for loop.\n",
        "    - A while loop is more suitable than a for loop when the number of iterations is not known in advance and depends on a condition that may change dynamically during the execution of the loop.\n",
        "    \n",
        "    - Example Scenario: User Input Validation\n",
        "\n",
        "    - Imagine you are building a program that asks a user to input a valid password. The program should keep prompting the user until they provide a valid password. In this scenario, you don't know how many attempts the user will need, so a while loop is more appropriate.\n",
        "\n"
      ],
      "metadata": {
        "id": "9EzR8f4Dea1Q"
      }
    },
    {
      "cell_type": "markdown",
      "source": [
        "#Practical Questions\n"
      ],
      "metadata": {
        "id": "HR12Hu9z1xhy"
      }
    },
    {
      "cell_type": "code",
      "source": [
        "#1 Write a Python program to print \"Hello, World!\"\n",
        "\n",
        "print ( \"Hello, World!\" )\n"
      ],
      "metadata": {
        "colab": {
          "base_uri": "https://localhost:8080/"
        },
        "id": "N-GXrFmt17ge",
        "outputId": "69c03a63-0a6a-471b-8f62-8149b518a817"
      },
      "execution_count": 9,
      "outputs": [
        {
          "output_type": "stream",
          "name": "stdout",
          "text": [
            "Hello, World!\n"
          ]
        }
      ]
    },
    {
      "cell_type": "code",
      "source": [
        "#2 Write a Python program that displays your name and age.\n",
        "\n",
        "name = \"Nalin_Kumar\"\n",
        "age = 24\n",
        "print (\"My name is\", name)\n",
        "print (\"My age is\", age)"
      ],
      "metadata": {
        "colab": {
          "base_uri": "https://localhost:8080/"
        },
        "id": "NxqPEUxx42Vi",
        "outputId": "f059508a-59dc-4cf5-b900-11b2a9f36296"
      },
      "execution_count": 10,
      "outputs": [
        {
          "output_type": "stream",
          "name": "stdout",
          "text": [
            "My name is Nalin_Kumar\n",
            "My age is 24\n"
          ]
        }
      ]
    },
    {
      "cell_type": "code",
      "source": [
        "#3 Write code to print all the pre-defined keywords in Python using the keyword library.\n",
        "\n",
        "import keyword\n",
        "print (\"List of python keywords:\")\n",
        "for kw in keyword.kwlist:\n",
        "  print (kw)"
      ],
      "metadata": {
        "colab": {
          "base_uri": "https://localhost:8080/"
        },
        "id": "utVyDis565XP",
        "outputId": "968a6952-2576-47ae-fccc-aed2d724806d"
      },
      "execution_count": 13,
      "outputs": [
        {
          "output_type": "stream",
          "name": "stdout",
          "text": [
            "List of python keywords:\n",
            "False\n",
            "None\n",
            "True\n",
            "and\n",
            "as\n",
            "assert\n",
            "async\n",
            "await\n",
            "break\n",
            "class\n",
            "continue\n",
            "def\n",
            "del\n",
            "elif\n",
            "else\n",
            "except\n",
            "finally\n",
            "for\n",
            "from\n",
            "global\n",
            "if\n",
            "import\n",
            "in\n",
            "is\n",
            "lambda\n",
            "nonlocal\n",
            "not\n",
            "or\n",
            "pass\n",
            "raise\n",
            "return\n",
            "try\n",
            "while\n",
            "with\n",
            "yield\n"
          ]
        }
      ]
    },
    {
      "cell_type": "code",
      "source": [
        "#4 Write a program that checks if a given word is a Python keyword.\n",
        "\n",
        "import keyword\n",
        "\n",
        "def is_keyword(word):\n",
        "  return keyword.iskeyword(word)\n",
        "\n",
        "word = input(\"Enter a word: \")\n",
        "\n",
        "if is_keyword(word):\n",
        "  print(f\"'{word}' is a Python keyword.\")\n",
        "else:\n",
        "  print(f\"'{word}' is not a Python keyword.\")\n",
        "\n"
      ],
      "metadata": {
        "colab": {
          "base_uri": "https://localhost:8080/"
        },
        "id": "ob2m--qw9SyT",
        "outputId": "179691a8-4727-4ee8-f5dd-7fcf2ed4a436"
      },
      "execution_count": 25,
      "outputs": [
        {
          "output_type": "stream",
          "name": "stdout",
          "text": [
            "Enter a word: glass\n",
            "'glass' is not a Python keyword.\n"
          ]
        }
      ]
    },
    {
      "cell_type": "code",
      "source": [
        "#5 Create a list and tuple in Python, and demonstrate how attempting to change an element works differently for each.\n",
        "\n",
        "My_list= [10, 20, 30, 40, 50]\n",
        "My_tuple= (10, 20, 30, 40, 50)\n",
        "My_list[2] = 60\n",
        "print(\"New list:\", My_list)\n",
        "try:\n",
        "  My_tuple[2] = 60\n",
        "except TypeError as e:\n",
        "    print(e)\n",
        "\n",
        "\n"
      ],
      "metadata": {
        "colab": {
          "base_uri": "https://localhost:8080/"
        },
        "id": "f0OIG6_8Axzo",
        "outputId": "dc0d0e58-2fb9-476c-b878-af128a2249d8"
      },
      "execution_count": 6,
      "outputs": [
        {
          "output_type": "stream",
          "name": "stdout",
          "text": [
            "New list: [10, 20, 60, 40, 50]\n",
            "'tuple' object does not support item assignment\n"
          ]
        }
      ]
    },
    {
      "cell_type": "code",
      "source": [
        "#6 Write a function to demonstrate the behavior of mutable and immutable arguments.\n",
        "\n",
        "def modify_arguments(mutable_arg, immutable_arg):\n",
        "    mutable_arg.append(4)\n",
        "    immutable_arg += 1\n",
        "\n",
        "    print(\"Inside function:\")\n",
        "    print(\"Mutable argument:\", mutable_arg)\n",
        "    print(\"Immutable argument:\", immutable_arg)\n",
        "\n",
        "my_list = [1, 2, 3]\n",
        "my_int = 5\n",
        "\n",
        "print(\"Before function call:\")\n",
        "print(\"my_list:\", my_list)\n",
        "print(\"my_int:\", my_int)\n",
        "\n",
        "modify_arguments(my_list, my_int)\n",
        "\n",
        "print(\"After function call:\")\n",
        "print(\"my_list:\", my_list)\n",
        "print(\"my_int:\", my_int)"
      ],
      "metadata": {
        "colab": {
          "base_uri": "https://localhost:8080/"
        },
        "id": "pcBrWm_p8OZI",
        "outputId": "4677a67c-33d0-445d-9931-161e5a098114"
      },
      "execution_count": 8,
      "outputs": [
        {
          "output_type": "stream",
          "name": "stdout",
          "text": [
            "Before function call:\n",
            "my_list: [1, 2, 3]\n",
            "my_int: 5\n",
            "Inside function:\n",
            "Mutable argument: [1, 2, 3, 4]\n",
            "Immutable argument: 6\n",
            "After function call:\n",
            "my_list: [1, 2, 3, 4]\n",
            "my_int: 5\n"
          ]
        }
      ]
    },
    {
      "cell_type": "code",
      "source": [
        "#7  Write a function to demonstrate the behavior of mutable and immutable arguments.\n",
        "\n",
        "def modify_arguments(mutable_arg, immutable_arg):\n",
        "    mutable_arg.append(4)\n",
        "    immutable_arg += 1\n",
        "\n",
        "    print(\"Inside function:\")\n",
        "    print(\"Mutable argument:\", mutable_arg)\n",
        "    print(\"Immutable argument:\", immutable_arg)\n",
        "\n",
        "my_list = [1, 2, 3]\n",
        "my_int = 5\n",
        "\n",
        "print(\"Before function call:\")\n",
        "print(\"my_list:\", my_list)\n",
        "print(\"my_int:\", my_int)\n",
        "\n",
        "modify_arguments(my_list, my_int)\n",
        "\n",
        "print(\"After function call:\")\n",
        "print(\"my_list:\", my_list)\n",
        "print(\"my_int:\", my_int)"
      ],
      "metadata": {
        "colab": {
          "base_uri": "https://localhost:8080/"
        },
        "id": "K1ZZN7eiAsCo",
        "outputId": "c48f9a3c-9784-4989-d127-9e481557cbd8"
      },
      "execution_count": 10,
      "outputs": [
        {
          "output_type": "stream",
          "name": "stdout",
          "text": [
            "Before function call:\n",
            "my_list: [1, 2, 3]\n",
            "my_int: 5\n",
            "Inside function:\n",
            "Mutable argument: [1, 2, 3, 4]\n",
            "Immutable argument: 6\n",
            "After function call:\n",
            "my_list: [1, 2, 3, 4]\n",
            "my_int: 5\n"
          ]
        }
      ]
    },
    {
      "cell_type": "code",
      "source": [
        "#8 Write a program to demonstrate the use of logical operators.\n",
        "\n",
        "Age = int(input(\"Enter your age:\"))\n",
        "Citizenship = input(\"Are you a citizen of India? (Yes/No):\")\n",
        "\n",
        "if Age >= 18 and Citizenship == \"Yes\":\n",
        "  print(\"You are eligible to vote.\")\n",
        "else:\n",
        "  print(\"You are not eligible to vote.\")\n"
      ],
      "metadata": {
        "colab": {
          "base_uri": "https://localhost:8080/"
        },
        "id": "0YbTwZncAyg-",
        "outputId": "b077614c-5ba0-4993-ae8d-b6f7ccbc0b6f"
      },
      "execution_count": 18,
      "outputs": [
        {
          "output_type": "stream",
          "name": "stdout",
          "text": [
            "Enter your age:24\n",
            "Are you a citizen of India? (Yes/No):Yes\n",
            "You are eligible to vote.\n"
          ]
        }
      ]
    },
    {
      "cell_type": "code",
      "source": [
        "#9  Write a Python program to convert user input from string to integer, float, and boolean types.\n",
        "\n",
        "def convert_input():\n",
        "    user_input = input(\"Enter a value: \")\n",
        "\n",
        "    # Convert to integer\n",
        "    try:\n",
        "        int_value = int(user_input)\n",
        "        print(f\"Integer conversion: {int_value}\")\n",
        "    except ValueError:\n",
        "        print(\"Cannot convert to integer.\")\n",
        "\n",
        "    # Convert to float\n",
        "    try:\n",
        "        float_value = float(user_input)\n",
        "        print(f\"Float conversion: {float_value}\")\n",
        "    except ValueError:\n",
        "        print(\"Cannot convert to float.\")\n",
        "\n",
        "    # Convert to boolean\n",
        "    bool_value = user_input.strip().lower() in (\"true\", \"1\", \"yes\", \"on\")\n",
        "    print(f\"Boolean conversion: {bool_value}\")\n",
        "\n",
        "\n"
      ],
      "metadata": {
        "id": "5fpsNJnWEg_w"
      },
      "execution_count": 33,
      "outputs": []
    },
    {
      "cell_type": "code",
      "source": [
        "#10 Write code to demonstrate type casting with list elements.\n",
        "\n",
        "list_1 = [15, \"100\", 5.65, True, \"77\", 60]\n",
        "\n",
        "int_list = [int(x) for x in list_1]\n",
        "float_list = [float(x) for x in list_1]\n",
        "str_list = [str(x) for x in list_1]\n",
        "\n",
        "print (\"Original list\", list_1)\n",
        "print (\"Integer list\", int_list)\n",
        "print (\"Float list\", float_list)\n",
        "print (\"String list\", str_list)\n",
        "\n"
      ],
      "metadata": {
        "colab": {
          "base_uri": "https://localhost:8080/"
        },
        "id": "LNRzV9d-Jw62",
        "outputId": "952b4146-6c06-41de-8ec6-2a782e7fefb9"
      },
      "execution_count": 37,
      "outputs": [
        {
          "output_type": "stream",
          "name": "stdout",
          "text": [
            "Original list [15, '100', 5.65, True, '77', 60]\n",
            "Integer list [15, 100, 5, 1, 77, 60]\n",
            "Float list [15.0, 100.0, 5.65, 1.0, 77.0, 60.0]\n",
            "String list ['15', '100', '5.65', 'True', '77', '60']\n"
          ]
        }
      ]
    },
    {
      "cell_type": "code",
      "source": [
        "#11 Write a program that checks if a number is positive, negative, or zero.\n",
        "\n",
        "num = float(input(\"Enter a number: \"))\n",
        "if num > 0:\n",
        "  print (\"Positive Number\")\n",
        "elif num == 0:\n",
        "  print (\"Zero\")\n",
        "else:\n",
        "  print (\"Negative Number\")"
      ],
      "metadata": {
        "colab": {
          "base_uri": "https://localhost:8080/"
        },
        "id": "3OMlKI1gb1aL",
        "outputId": "b793ee4c-98ee-4088-e892-b79219f51d93"
      },
      "execution_count": 45,
      "outputs": [
        {
          "output_type": "stream",
          "name": "stdout",
          "text": [
            "Enter a number: 15\n",
            "Positive Number\n"
          ]
        }
      ]
    },
    {
      "cell_type": "code",
      "source": [
        "#12 Write a for loop to print numbers from 1 to 10.\n",
        "\n",
        "for n in range(1, 11):\n",
        "  print(n)"
      ],
      "metadata": {
        "colab": {
          "base_uri": "https://localhost:8080/"
        },
        "id": "XUQt_BfsfB5S",
        "outputId": "cf63429c-0e03-438f-d17b-ab6b801652c8"
      },
      "execution_count": 50,
      "outputs": [
        {
          "output_type": "stream",
          "name": "stdout",
          "text": [
            "1\n",
            "2\n",
            "3\n",
            "4\n",
            "5\n",
            "6\n",
            "7\n",
            "8\n",
            "9\n",
            "10\n"
          ]
        }
      ]
    },
    {
      "cell_type": "code",
      "source": [
        "#13 Write a Python program to find the sum of all even numbers between 1 and 50.\n",
        "\n",
        "sum_of_evens = sum(range(2, 51, 2))\n",
        "print (\"The sum of all even numbers between 1 and 50 is:\", sum_of_evens)\n"
      ],
      "metadata": {
        "colab": {
          "base_uri": "https://localhost:8080/"
        },
        "id": "IE1W7UyZgoZq",
        "outputId": "0ed13b43-1854-4221-d537-7bf78568039a"
      },
      "execution_count": 51,
      "outputs": [
        {
          "output_type": "stream",
          "name": "stdout",
          "text": [
            "The sum of all even numbers between 1 and 50 is: 650\n"
          ]
        }
      ]
    },
    {
      "cell_type": "code",
      "source": [
        "#14 Write a program to reverse a string using a while loop.\n",
        "\n",
        "def reverse_string(string):\n",
        "  reversed_string = \"\"\n",
        "  index = len(string) - 1\n",
        "\n",
        "  while index >= 0:\n",
        "    reversed_string += string[index]\n",
        "    index -= 1\n",
        "\n",
        "  return reversed_string\n",
        "\n",
        "original_string = \"Data Analytics\"\n",
        "reversed_string = reverse_string(original_string)\n",
        "\n",
        "print(\"Original String:\", original_string)\n",
        "print(\"Reversed String:\", reversed_string)"
      ],
      "metadata": {
        "colab": {
          "base_uri": "https://localhost:8080/"
        },
        "id": "YlAONoC4jFs7",
        "outputId": "4de68dfa-7d48-40e4-872f-12d24989b6e6"
      },
      "execution_count": 53,
      "outputs": [
        {
          "output_type": "stream",
          "name": "stdout",
          "text": [
            "Original String: Data Analytics\n",
            "Reversed String: scitylanA ataD\n"
          ]
        }
      ]
    },
    {
      "cell_type": "code",
      "source": [
        "#15 Write a Python program to calculate the factorial of a number provided by the user using a while loop.\n",
        "\n",
        "num = int(input(\"Enter a number to calculate its factorial: \"))\n",
        "\n",
        "if num < 0:\n",
        "  print (\"Factorial not applicable\")\n",
        "else:\n",
        "  factorial = 1\n",
        "  while num > 1:\n",
        "    factorial *= num\n",
        "    num -= 1\n",
        "    print (\"The factorial is: \", factorial)\n"
      ],
      "metadata": {
        "colab": {
          "base_uri": "https://localhost:8080/"
        },
        "id": "Z1uDd1HOj_IC",
        "outputId": "0b6e7edf-016e-47cf-f2b9-4f2a9c65d637"
      },
      "execution_count": 59,
      "outputs": [
        {
          "output_type": "stream",
          "name": "stdout",
          "text": [
            "Enter a number to calculate its factorial: 5\n",
            "The factorial is:  5\n",
            "The factorial is:  20\n",
            "The factorial is:  60\n",
            "The factorial is:  120\n"
          ]
        }
      ]
    }
  ]
}